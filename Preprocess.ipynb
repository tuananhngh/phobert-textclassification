{
 "cells": [
  {
   "cell_type": "code",
   "execution_count": 33,
   "id": "2c16c0a5",
   "metadata": {
    "ExecuteTime": {
     "end_time": "2021-10-23T09:01:45.441396Z",
     "start_time": "2021-10-23T09:01:45.437187Z"
    }
   },
   "outputs": [],
   "source": [
    "import re\n",
    "import numpy as np\n",
    "import os\n",
    "import json\n",
    "import pandas as pd\n",
    "#from dateparser.search import search_dates\n",
    "from vncorenlp import VnCoreNLP\n",
    "from collections import defaultdict, Counter\n",
    "from transformers import AutoModel, AutoTokenizer, BertPreTrainedModel, RobertaModel, RobertaConfig"
   ]
  },
  {
   "cell_type": "code",
   "execution_count": 6,
   "id": "b85d1c46",
   "metadata": {
    "ExecuteTime": {
     "end_time": "2021-10-23T08:54:55.367057Z",
     "start_time": "2021-10-23T08:54:55.311984Z"
    }
   },
   "outputs": [],
   "source": [
    "text = {}\n",
    "with open(\"./data.txt\", encoding='utf-8-sig') as f:\n",
    "    text = json.loads(f.read())\n",
    "\n",
    "seq = [text[\"data_direction\"][i][\"subject\"] for i in range(len(text[\"data_direction\"]))]\n",
    "lab = [text[\"data_direction\"][i][\"category\"] for i in range(len(text[\"data_direction\"]))]"
   ]
  },
  {
   "cell_type": "code",
   "execution_count": 7,
   "id": "064ef418",
   "metadata": {
    "ExecuteTime": {
     "end_time": "2021-10-23T08:54:56.094566Z",
     "start_time": "2021-10-23T08:54:56.081963Z"
    }
   },
   "outputs": [],
   "source": [
    "data_pd = pd.DataFrame({\"Sequence\": seq, \"Label\": lab})\n",
    "\n",
    "acrronym = {\"NQ\": \"Nghị quyết\", \"CP\": \"Chính phủ\", \"TTTT\": \"Thông tin truyền thông\",\n",
    "            \"CBCCVCLĐ\" : \"Cán bộ công chức viên chức người lao động\"}"
   ]
  },
  {
   "cell_type": "code",
   "execution_count": 8,
   "id": "db52b753",
   "metadata": {
    "ExecuteTime": {
     "end_time": "2021-10-23T08:54:56.876809Z",
     "start_time": "2021-10-23T08:54:56.862185Z"
    }
   },
   "outputs": [],
   "source": [
    "def find_accronym(data_file):\n",
    "    accronym = []\n",
    "    for i in range(data_file.shape[0]):\n",
    "        sent = data_file.iloc[i][\"Sequence\"]\n",
    "        sent_acc = re.findall(r'[A-ZĐ]{2,}', sent)\n",
    "        if sent_acc:\n",
    "            for ele in sent_acc:\n",
    "                accronym.append(ele)\n",
    "    return set(accronym)\n",
    "\n",
    "def regex_sentence(s):\n",
    "    s = re.sub('((www\\.[^s]+)|(https://[^\\s]+))', 'URL', s)  # replace url\n",
    "    s = re.sub(\"V/v\", \"\", s)\n",
    "    s = re.sub(\"v/v\", \"\", s)\n",
    "    s = re.sub(\"Về việc\", \"\", s)\n",
    "    s = re.sub(r'[-–()/\"#@;:<>{}`+=~|.!?,&“”%*⋅…]', ' ', s)\n",
    "    s = re.sub(r\"\\b\\d+\\b\", '', s)  # remove number, date, etc...\n",
    "    #s = re.sub(\"TTg\", \"\", s)\n",
    "    #s = re.sub(\"CTr]\", \"\", s)\n",
    "    #s = re.sub(r'\\b[A-ZÀÁÂÃÈÉÊÌÍÒÓÔÕÙÚĂĐĨŨƠ]\\b', \"\", s)  #remove single uppercase character\n",
    "    s = re.sub(r'\\b[BCEXHVICJFQPKcvhđmgbs]\\b',\"\",s)\n",
    "    #s = re.sub(r'[A-ZÀÁÂÃÈÉÊÌÍÒÓÔÕÙÚĂĐĨŨƠ]{2,}', \"\", s)  #remove 2 consecutive uppercase character\n",
    "    #s = re.sub('[\\n]+', '', s)  #remove white space\n",
    "    s = s.replace('\\n', '').replace('\\r', '').replace(\"\\\\\", \"\")\n",
    "    s = s.strip()\n",
    "    s = ' '.join(word for word in s.split())  #\n",
    "    s = s.lower()\n",
    "    return s\n",
    "\n",
    "\n",
    "def get_single_letter(s):\n",
    "    return [word for word in s.split() if len(word)==1]"
   ]
  },
  {
   "cell_type": "code",
   "execution_count": 9,
   "id": "2a1fc24a",
   "metadata": {
    "ExecuteTime": {
     "end_time": "2021-10-23T08:54:57.556745Z",
     "start_time": "2021-10-23T08:54:57.212237Z"
    }
   },
   "outputs": [],
   "source": [
    "clean_data = data_pd.copy()\n",
    "clean_data[\"Sequence\"] = clean_data[\"Sequence\"].apply(regex_sentence)"
   ]
  },
  {
   "cell_type": "code",
   "execution_count": 10,
   "id": "19d6859e",
   "metadata": {
    "ExecuteTime": {
     "end_time": "2021-10-23T08:54:57.688454Z",
     "start_time": "2021-10-23T08:54:57.632901Z"
    }
   },
   "outputs": [
    {
     "data": {
      "text/plain": [
       "dict_keys(['ý', 'y', 'ở', 'ô', 'á', 'e', 'a', 'ạ', 'ỷ', 'i'])"
      ]
     },
     "execution_count": 10,
     "metadata": {},
     "output_type": "execute_result"
    }
   ],
   "source": [
    "def single_letters(data):\n",
    "    single = defaultdict(list)\n",
    "    for i,seq in enumerate(data[\"Sequence\"]):\n",
    "        ok = get_single_letter(seq)\n",
    "        for lt in ok:\n",
    "            single[lt].append(i)\n",
    "    return single\n",
    "\n",
    "single = single_letters(clean_data)\n",
    "\n",
    "single.keys()"
   ]
  },
  {
   "cell_type": "code",
   "execution_count": 11,
   "id": "e899a413",
   "metadata": {
    "ExecuteTime": {
     "end_time": "2021-10-23T08:55:04.438631Z",
     "start_time": "2021-10-23T08:54:59.003296Z"
    }
   },
   "outputs": [],
   "source": [
    "def get_unique_label(dataset):\n",
    "    dict_text = defaultdict(list)\n",
    "    for k, v in zip(dataset[\"Sequence\"], dataset[\"Label\"]):\n",
    "        if v not in dict_text[k]:\n",
    "            #print(f\"{v} not in {dict_text[k]}\")\n",
    "            dict_text[k].append(v)\n",
    "        else:\n",
    "            #print(f\"{v} in {dict_text[k]}\")\n",
    "            pass\n",
    "    return dict_text\n",
    "\n",
    "rdrsegmenter = VnCoreNLP(\"/Users/Slaton/vncorenlp/VnCoreNLP-1.1.1.jar\", annotators=\"wseg\", max_heap_size='-Xmx500m')\n",
    "\n",
    "def segmenter(s):\n",
    "    sentence = rdrsegmenter.tokenize(s)[0]\n",
    "    return \" \".join(sentence)\n",
    "\n",
    "def data_label_dict(dataframe):\n",
    "    unseg_dict = get_unique_label(dataframe)\n",
    "    seg_dict = dict()  #defaultdict(list)\n",
    "    for k, v in unseg_dict.items():\n",
    "        seg_dict[segmenter(k)] = v\n",
    "    return seg_dict\n",
    "\n",
    "def create_pd_dummies_label(dictionary, label_list):\n",
    "    empty_pd = pd.DataFrame(index=range(len(dictionary)), columns=[\"Sequence\", *label_list])\n",
    "    for i, k in enumerate(dictionary.keys()):\n",
    "        empty_pd.iloc[i][\"Sequence\"] = k\n",
    "        for lab in dictionary[k]:\n",
    "            empty_pd.iloc[i][lab] = 1\n",
    "    empty_pd = empty_pd.fillna(0)\n",
    "    return empty_pd"
   ]
  },
  {
   "cell_type": "code",
   "execution_count": 12,
   "id": "7aab9d0e",
   "metadata": {
    "ExecuteTime": {
     "end_time": "2021-10-23T08:55:32.410601Z",
     "start_time": "2021-10-23T08:55:08.122371Z"
    }
   },
   "outputs": [],
   "source": [
    "labels = list(np.unique(clean_data[\"Label\"]))\n",
    "segmented_dict = data_label_dict(clean_data)\n",
    "vocab = set([word for k in segmented_dict.keys() for word in k.split()])  #3938"
   ]
  },
  {
   "cell_type": "code",
   "execution_count": 13,
   "id": "b6bc4520",
   "metadata": {
    "ExecuteTime": {
     "end_time": "2021-10-23T08:55:38.389410Z",
     "start_time": "2021-10-23T08:55:37.937703Z"
    }
   },
   "outputs": [],
   "source": [
    "final_data = create_pd_dummies_label(segmented_dict, labels)"
   ]
  },
  {
   "cell_type": "code",
   "execution_count": 14,
   "id": "e6e34168",
   "metadata": {
    "ExecuteTime": {
     "end_time": "2021-10-23T08:55:39.184303Z",
     "start_time": "2021-10-23T08:55:39.161098Z"
    }
   },
   "outputs": [
    {
     "data": {
      "text/html": [
       "<div>\n",
       "<style scoped>\n",
       "    .dataframe tbody tr th:only-of-type {\n",
       "        vertical-align: middle;\n",
       "    }\n",
       "\n",
       "    .dataframe tbody tr th {\n",
       "        vertical-align: top;\n",
       "    }\n",
       "\n",
       "    .dataframe thead th {\n",
       "        text-align: right;\n",
       "    }\n",
       "</style>\n",
       "<table border=\"1\" class=\"dataframe\">\n",
       "  <thead>\n",
       "    <tr style=\"text-align: right;\">\n",
       "      <th></th>\n",
       "      <th>Sequence</th>\n",
       "      <th>Báo chí xuất bản</th>\n",
       "      <th>Báo cáo</th>\n",
       "      <th>Chỉ thị</th>\n",
       "      <th>Công văn</th>\n",
       "      <th>Giấy mời</th>\n",
       "      <th>Hướng dẫn</th>\n",
       "      <th>Kế hoạch</th>\n",
       "      <th>Quyết định</th>\n",
       "      <th>Thông báo</th>\n",
       "      <th>Thông tư</th>\n",
       "      <th>Tờ trình</th>\n",
       "    </tr>\n",
       "  </thead>\n",
       "  <tbody>\n",
       "    <tr>\n",
       "      <th>0</th>\n",
       "      <td>thống_kê danh_sách cá_nhân gia_đình hiến máu t...</td>\n",
       "      <td>0</td>\n",
       "      <td>0</td>\n",
       "      <td>0</td>\n",
       "      <td>1</td>\n",
       "      <td>0</td>\n",
       "      <td>0</td>\n",
       "      <td>0</td>\n",
       "      <td>0</td>\n",
       "      <td>0</td>\n",
       "      <td>0</td>\n",
       "      <td>0</td>\n",
       "    </tr>\n",
       "    <tr>\n",
       "      <th>1</th>\n",
       "      <td>xin cấp tên_miền cho trang thông_tin điện_tử t...</td>\n",
       "      <td>0</td>\n",
       "      <td>0</td>\n",
       "      <td>0</td>\n",
       "      <td>1</td>\n",
       "      <td>0</td>\n",
       "      <td>0</td>\n",
       "      <td>0</td>\n",
       "      <td>0</td>\n",
       "      <td>0</td>\n",
       "      <td>0</td>\n",
       "      <td>0</td>\n",
       "    </tr>\n",
       "    <tr>\n",
       "      <th>2</th>\n",
       "      <td>đề_nghị hỗ_trợ tập_huấn triển_khai ứng_dụng ch...</td>\n",
       "      <td>0</td>\n",
       "      <td>0</td>\n",
       "      <td>0</td>\n",
       "      <td>1</td>\n",
       "      <td>0</td>\n",
       "      <td>0</td>\n",
       "      <td>0</td>\n",
       "      <td>0</td>\n",
       "      <td>0</td>\n",
       "      <td>0</td>\n",
       "      <td>0</td>\n",
       "    </tr>\n",
       "    <tr>\n",
       "      <th>3</th>\n",
       "      <td>thống_kê chỉ_tiêu theo nghị_quyết nq cp ngày s...</td>\n",
       "      <td>0</td>\n",
       "      <td>0</td>\n",
       "      <td>0</td>\n",
       "      <td>1</td>\n",
       "      <td>0</td>\n",
       "      <td>0</td>\n",
       "      <td>0</td>\n",
       "      <td>0</td>\n",
       "      <td>0</td>\n",
       "      <td>0</td>\n",
       "      <td>0</td>\n",
       "    </tr>\n",
       "    <tr>\n",
       "      <th>4</th>\n",
       "      <td>vận_động cbccvclđ tham_gia hiến máu tình_nguyệ...</td>\n",
       "      <td>0</td>\n",
       "      <td>0</td>\n",
       "      <td>0</td>\n",
       "      <td>1</td>\n",
       "      <td>0</td>\n",
       "      <td>0</td>\n",
       "      <td>0</td>\n",
       "      <td>0</td>\n",
       "      <td>0</td>\n",
       "      <td>0</td>\n",
       "      <td>0</td>\n",
       "    </tr>\n",
       "    <tr>\n",
       "      <th>...</th>\n",
       "      <td>...</td>\n",
       "      <td>...</td>\n",
       "      <td>...</td>\n",
       "      <td>...</td>\n",
       "      <td>...</td>\n",
       "      <td>...</td>\n",
       "      <td>...</td>\n",
       "      <td>...</td>\n",
       "      <td>...</td>\n",
       "      <td>...</td>\n",
       "      <td>...</td>\n",
       "      <td>...</td>\n",
       "    </tr>\n",
       "    <tr>\n",
       "      <th>10135</th>\n",
       "      <td>phân_công nhiệm_vụ chủ_tịch các phó chủ_tịch u...</td>\n",
       "      <td>0</td>\n",
       "      <td>0</td>\n",
       "      <td>0</td>\n",
       "      <td>0</td>\n",
       "      <td>0</td>\n",
       "      <td>0</td>\n",
       "      <td>0</td>\n",
       "      <td>1</td>\n",
       "      <td>0</td>\n",
       "      <td>0</td>\n",
       "      <td>0</td>\n",
       "    </tr>\n",
       "    <tr>\n",
       "      <th>10136</th>\n",
       "      <td>tham_gia ý_kiến đối_với dự_thảo xin chủ_trương...</td>\n",
       "      <td>0</td>\n",
       "      <td>0</td>\n",
       "      <td>0</td>\n",
       "      <td>1</td>\n",
       "      <td>0</td>\n",
       "      <td>0</td>\n",
       "      <td>0</td>\n",
       "      <td>0</td>\n",
       "      <td>0</td>\n",
       "      <td>0</td>\n",
       "      <td>0</td>\n",
       "    </tr>\n",
       "    <tr>\n",
       "      <th>10137</th>\n",
       "      <td>tiếp_tục thực_hiện một_số biện_pháp cấp_bách p...</td>\n",
       "      <td>0</td>\n",
       "      <td>0</td>\n",
       "      <td>0</td>\n",
       "      <td>1</td>\n",
       "      <td>0</td>\n",
       "      <td>0</td>\n",
       "      <td>0</td>\n",
       "      <td>0</td>\n",
       "      <td>0</td>\n",
       "      <td>0</td>\n",
       "      <td>0</td>\n",
       "    </tr>\n",
       "    <tr>\n",
       "      <th>10138</th>\n",
       "      <td>phúc_đáp công_văn số stttt bcvt cntt ngày của ...</td>\n",
       "      <td>0</td>\n",
       "      <td>0</td>\n",
       "      <td>0</td>\n",
       "      <td>1</td>\n",
       "      <td>0</td>\n",
       "      <td>0</td>\n",
       "      <td>0</td>\n",
       "      <td>0</td>\n",
       "      <td>0</td>\n",
       "      <td>0</td>\n",
       "      <td>0</td>\n",
       "    </tr>\n",
       "    <tr>\n",
       "      <th>10139</th>\n",
       "      <td>góp_ý chủ_trương thí_điểm hạ ngầm cáp viễn_thô...</td>\n",
       "      <td>0</td>\n",
       "      <td>0</td>\n",
       "      <td>0</td>\n",
       "      <td>1</td>\n",
       "      <td>0</td>\n",
       "      <td>0</td>\n",
       "      <td>0</td>\n",
       "      <td>0</td>\n",
       "      <td>0</td>\n",
       "      <td>0</td>\n",
       "      <td>0</td>\n",
       "    </tr>\n",
       "  </tbody>\n",
       "</table>\n",
       "<p>10140 rows × 12 columns</p>\n",
       "</div>"
      ],
      "text/plain": [
       "                                                Sequence  Báo chí xuất bản  \\\n",
       "0      thống_kê danh_sách cá_nhân gia_đình hiến máu t...                 0   \n",
       "1      xin cấp tên_miền cho trang thông_tin điện_tử t...                 0   \n",
       "2      đề_nghị hỗ_trợ tập_huấn triển_khai ứng_dụng ch...                 0   \n",
       "3      thống_kê chỉ_tiêu theo nghị_quyết nq cp ngày s...                 0   \n",
       "4      vận_động cbccvclđ tham_gia hiến máu tình_nguyệ...                 0   \n",
       "...                                                  ...               ...   \n",
       "10135  phân_công nhiệm_vụ chủ_tịch các phó chủ_tịch u...                 0   \n",
       "10136  tham_gia ý_kiến đối_với dự_thảo xin chủ_trương...                 0   \n",
       "10137  tiếp_tục thực_hiện một_số biện_pháp cấp_bách p...                 0   \n",
       "10138  phúc_đáp công_văn số stttt bcvt cntt ngày của ...                 0   \n",
       "10139  góp_ý chủ_trương thí_điểm hạ ngầm cáp viễn_thô...                 0   \n",
       "\n",
       "       Báo cáo  Chỉ thị  Công văn  Giấy mời  Hướng dẫn  Kế hoạch  Quyết định  \\\n",
       "0            0        0         1         0          0         0           0   \n",
       "1            0        0         1         0          0         0           0   \n",
       "2            0        0         1         0          0         0           0   \n",
       "3            0        0         1         0          0         0           0   \n",
       "4            0        0         1         0          0         0           0   \n",
       "...        ...      ...       ...       ...        ...       ...         ...   \n",
       "10135        0        0         0         0          0         0           1   \n",
       "10136        0        0         1         0          0         0           0   \n",
       "10137        0        0         1         0          0         0           0   \n",
       "10138        0        0         1         0          0         0           0   \n",
       "10139        0        0         1         0          0         0           0   \n",
       "\n",
       "       Thông báo  Thông tư  Tờ trình  \n",
       "0              0         0         0  \n",
       "1              0         0         0  \n",
       "2              0         0         0  \n",
       "3              0         0         0  \n",
       "4              0         0         0  \n",
       "...          ...       ...       ...  \n",
       "10135          0         0         0  \n",
       "10136          0         0         0  \n",
       "10137          0         0         0  \n",
       "10138          0         0         0  \n",
       "10139          0         0         0  \n",
       "\n",
       "[10140 rows x 12 columns]"
      ]
     },
     "execution_count": 14,
     "metadata": {},
     "output_type": "execute_result"
    }
   ],
   "source": [
    "final_data"
   ]
  },
  {
   "cell_type": "code",
   "execution_count": 18,
   "id": "88f512e7",
   "metadata": {
    "ExecuteTime": {
     "end_time": "2021-10-23T08:57:51.432800Z",
     "start_time": "2021-10-23T08:57:45.385680Z"
    }
   },
   "outputs": [
    {
     "name": "stderr",
     "output_type": "stream",
     "text": [
      "Special tokens have been added in the vocabulary, make sure the associated word embeddings are fine-tuned or trained.\n",
      "Some weights of the model checkpoint at vinai/phobert-base were not used when initializing RobertaModel: ['lm_head.dense.weight', 'lm_head.bias', 'lm_head.decoder.weight', 'lm_head.decoder.bias', 'lm_head.layer_norm.weight', 'lm_head.dense.bias', 'lm_head.layer_norm.bias']\n",
      "- This IS expected if you are initializing RobertaModel from the checkpoint of a model trained on another task or with another architecture (e.g. initializing a BertForSequenceClassification model from a BertForPreTraining model).\n",
      "- This IS NOT expected if you are initializing RobertaModel from the checkpoint of a model that you expect to be exactly identical (initializing a BertForSequenceClassification model from a BertForSequenceClassification model).\n"
     ]
    }
   ],
   "source": [
    "tokenizer = AutoTokenizer.from_pretrained(\"vinai/phobert-base\", use_fast=False)\n",
    "phobert = AutoModel.from_pretrained(\"vinai/phobert-base\")"
   ]
  },
  {
   "cell_type": "code",
   "execution_count": 20,
   "id": "602ee24b",
   "metadata": {
    "ExecuteTime": {
     "end_time": "2021-10-23T08:59:31.398607Z",
     "start_time": "2021-10-23T08:59:31.248697Z"
    }
   },
   "outputs": [],
   "source": [
    "sentence = final_data.iloc[0][\"Sequence\"]\n",
    "input_ids = torch.tensor([tokenizer.encode(sentence)])\n",
    "with torch.no_grad():\n",
    "    features = phobert(input_ids)  # Models outputs are now tuples"
   ]
  },
  {
   "cell_type": "code",
   "execution_count": 36,
   "id": "51d01198",
   "metadata": {
    "ExecuteTime": {
     "end_time": "2021-10-23T09:02:52.950449Z",
     "start_time": "2021-10-23T09:02:52.946634Z"
    }
   },
   "outputs": [
    {
     "data": {
      "text/plain": [
       "torch.Size([1, 15, 768])"
      ]
     },
     "execution_count": 36,
     "metadata": {},
     "output_type": "execute_result"
    }
   ],
   "source": [
    "features[0].shape"
   ]
  },
  {
   "cell_type": "code",
   "execution_count": 34,
   "id": "40756501",
   "metadata": {
    "ExecuteTime": {
     "end_time": "2021-10-23T09:01:47.907617Z",
     "start_time": "2021-10-23T09:01:47.897113Z"
    }
   },
   "outputs": [],
   "source": [
    "class RobertaForAIViVN(BertPreTrainedModel):\n",
    "    config_class = RobertaConfig\n",
    "    base_model_prefix = \"roberta\"\n",
    "    def __init__(self, config):\n",
    "        super(RobertaForAIViVN, self).__init__(config)\n",
    "        self.num_labels = config.num_labels\n",
    "        self.roberta = RobertaModel(config)\n",
    "        self.qa_outputs = nn.Linear(4*config.hidden_size, self.num_labels)\n",
    "        self.init_weights()\n",
    "\n",
    "    def forward(self, input_ids, attention_mask=None, token_type_ids=None, position_ids=None, head_mask=None,\n",
    "                start_positions=None, end_positions=None):\n",
    "\n",
    "        outputs = self.roberta(input_ids,\n",
    "                                attention_mask=attention_mask,\n",
    "#                            token_type_ids=token_type_ids,\n",
    "                                position_ids=position_ids,\n",
    "                                head_mask=head_mask)\n",
    "        cls_output = torch.cat((outputs[2][-1][:,0, ...],outputs[2][-2][:,0, ...], outputs[2][-3][:,0, ...], outputs[2][-4][:,0, ...]),-1)\n",
    "        logits = self.qa_outputs(cls_output)\n",
    "        return logits"
   ]
  },
  {
   "cell_type": "code",
   "execution_count": 35,
   "id": "5479eafa",
   "metadata": {
    "ExecuteTime": {
     "end_time": "2021-10-23T09:01:49.955394Z",
     "start_time": "2021-10-23T09:01:49.948458Z"
    }
   },
   "outputs": [
    {
     "data": {
      "text/plain": [
       "tensor([   0, 1799, 1092,  435,  161, 3312,  764, 4047,  101,  682,   72,  102,\n",
       "          11, 3968,    2])"
      ]
     },
     "execution_count": 35,
     "metadata": {},
     "output_type": "execute_result"
    }
   ],
   "source": [
    "torch.tensor(tokenizer.encode(final_data.iloc[0][\"Sequence\"]))"
   ]
  },
  {
   "cell_type": "code",
   "execution_count": null,
   "id": "ad17ed4c",
   "metadata": {},
   "outputs": [],
   "source": []
  }
 ],
 "metadata": {
  "kernelspec": {
   "display_name": "Python 3 (ipykernel)",
   "language": "python",
   "name": "python3"
  },
  "language_info": {
   "codemirror_mode": {
    "name": "ipython",
    "version": 3
   },
   "file_extension": ".py",
   "mimetype": "text/x-python",
   "name": "python",
   "nbconvert_exporter": "python",
   "pygments_lexer": "ipython3",
   "version": "3.8.12"
  },
  "toc": {
   "base_numbering": 1,
   "nav_menu": {},
   "number_sections": true,
   "sideBar": true,
   "skip_h1_title": false,
   "title_cell": "Table of Contents",
   "title_sidebar": "Contents",
   "toc_cell": false,
   "toc_position": {},
   "toc_section_display": true,
   "toc_window_display": false
  }
 },
 "nbformat": 4,
 "nbformat_minor": 5
}
